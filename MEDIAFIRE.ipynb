{
  "nbformat": 4,
  "nbformat_minor": 0,
  "metadata": {
    "colab": {
      "name": "Копия блокнота \"coub.ipynb\"",
      "provenance": [],
      "collapsed_sections": []
    },
    "kernelspec": {
      "name": "python3",
      "display_name": "Python 3"
    },
    "language_info": {
      "name": "python"
    }
  },
  "cells": [
    {
      "cell_type": "code",
      "metadata": {
        "id": "BQWkIHkV2EME",
        "colab": {
          "base_uri": "https://localhost:8080/"
        },
        "outputId": "67ac5bfe-3b4a-4681-ae76-a17897effe8d"
      },
      "source": [
        "!git clone https://github.com/ArchiveTeam/mediafire-grab && cd mediafire-grab && wget https://cdn.discordapp.com/attachments/853331570219286571/956564970718515250/wget-at_colab -O wget-at && chmod +x wget-at && apt-key adv --keyserver keyserver.ubuntu.com --recv-keys 648ACFD622F3D138 0E98404D386FA1D9 && echo deb http://deb.debian.org/debian buster-backports main contrib > /etc/apt/sources.list.d/backports.list && apt-get update && apt-get -t buster-backports install zstd libzstd-dev libzstd1 --no-install-recommends && python3 -m pip install setuptools wheel && python3 -m pip install --upgrade seesaw2 zstandard requests && apt-get install libgnutls28-dev lua5.1 liblua5.1-0 liblua5.1-0-dev lua-socket rsync"
      ],
      "execution_count": 1,
      "outputs": [
        {
          "output_type": "stream",
          "name": "stdout",
          "text": [
            "Cloning into 'github-grab'...\n",
            "remote: Enumerating objects: 260, done.\u001b[K\n",
            "remote: Counting objects:   0% (1/260)\u001b[K\rremote: Counting objects:   1% (3/260)\u001b[K\rremote: Counting objects:   2% (6/260)\u001b[K\rremote: Counting objects:   3% (8/260)\u001b[K\rremote: Counting objects:   4% (11/260)\u001b[K\rremote: Counting objects:   5% (13/260)\u001b[K\rremote: Counting objects:   6% (16/260)\u001b[K\rremote: Counting objects:   7% (19/260)\u001b[K\rremote: Counting objects:   8% (21/260)\u001b[K\rremote: Counting objects:   9% (24/260)\u001b[K\rremote: Counting objects:  10% (26/260)\u001b[K\rremote: Counting objects:  11% (29/260)\u001b[K\rremote: Counting objects:  12% (32/260)\u001b[K\rremote: Counting objects:  13% (34/260)\u001b[K\rremote: Counting objects:  14% (37/260)\u001b[K\rremote: Counting objects:  15% (39/260)\u001b[K\rremote: Counting objects:  16% (42/260)\u001b[K\rremote: Counting objects:  17% (45/260)\u001b[K\rremote: Counting objects:  18% (47/260)\u001b[K\rremote: Counting objects:  19% (50/260)\u001b[K\rremote: Counting objects:  20% (52/260)\u001b[K\rremote: Counting objects:  21% (55/260)\u001b[K\rremote: Counting objects:  22% (58/260)\u001b[K\rremote: Counting objects:  23% (60/260)\u001b[K\rremote: Counting objects:  24% (63/260)\u001b[K\rremote: Counting objects:  25% (65/260)\u001b[K\rremote: Counting objects:  26% (68/260)\u001b[K\rremote: Counting objects:  27% (71/260)\u001b[K\rremote: Counting objects:  28% (73/260)\u001b[K\rremote: Counting objects:  29% (76/260)\u001b[K\rremote: Counting objects:  30% (78/260)\u001b[K\rremote: Counting objects:  31% (81/260)\u001b[K\rremote: Counting objects:  32% (84/260)\u001b[K\rremote: Counting objects:  33% (86/260)\u001b[K\rremote: Counting objects:  34% (89/260)\u001b[K\rremote: Counting objects:  35% (91/260)\u001b[K\rremote: Counting objects:  36% (94/260)\u001b[K\rremote: Counting objects:  37% (97/260)\u001b[K\rremote: Counting objects:  38% (99/260)\u001b[K\rremote: Counting objects:  39% (102/260)\u001b[K\rremote: Counting objects:  40% (104/260)\u001b[K\rremote: Counting objects:  41% (107/260)\u001b[K\rremote: Counting objects:  42% (110/260)\u001b[K\rremote: Counting objects:  43% (112/260)\u001b[K\rremote: Counting objects:  44% (115/260)\u001b[K\rremote: Counting objects:  45% (117/260)\u001b[K\rremote: Counting objects:  46% (120/260)\u001b[K\rremote: Counting objects:  47% (123/260)\u001b[K\rremote: Counting objects:  48% (125/260)\u001b[K\rremote: Counting objects:  49% (128/260)\u001b[K\rremote: Counting objects:  50% (130/260)\u001b[K\rremote: Counting objects:  51% (133/260)\u001b[K\rremote: Counting objects:  52% (136/260)\u001b[K\rremote: Counting objects:  53% (138/260)\u001b[K\rremote: Counting objects:  54% (141/260)\u001b[K\rremote: Counting objects:  55% (143/260)\u001b[K\rremote: Counting objects:  56% (146/260)\u001b[K\rremote: Counting objects:  57% (149/260)\u001b[K\rremote: Counting objects:  58% (151/260)\u001b[K\rremote: Counting objects:  59% (154/260)\u001b[K\rremote: Counting objects:  60% (156/260)\u001b[K\rremote: Counting objects:  61% (159/260)\u001b[K\rremote: Counting objects:  62% (162/260)\u001b[K\rremote: Counting objects:  63% (164/260)\u001b[K\rremote: Counting objects:  64% (167/260)\u001b[K\rremote: Counting objects:  65% (169/260)\u001b[K\rremote: Counting objects:  66% (172/260)\u001b[K\rremote: Counting objects:  67% (175/260)\u001b[K\rremote: Counting objects:  68% (177/260)\u001b[K\rremote: Counting objects:  69% (180/260)\u001b[K\rremote: Counting objects:  70% (182/260)\u001b[K\rremote: Counting objects:  71% (185/260)\u001b[K\rremote: Counting objects:  72% (188/260)\u001b[K\rremote: Counting objects:  73% (190/260)\u001b[K\rremote: Counting objects:  74% (193/260)\u001b[K\rremote: Counting objects:  75% (195/260)\u001b[K\rremote: Counting objects:  76% (198/260)\u001b[K\rremote: Counting objects:  77% (201/260)\u001b[K\rremote: Counting objects:  78% (203/260)\u001b[K\rremote: Counting objects:  79% (206/260)\u001b[K\rremote: Counting objects:  80% (208/260)\u001b[K\rremote: Counting objects:  81% (211/260)\u001b[K\rremote: Counting objects:  82% (214/260)\u001b[K\rremote: Counting objects:  83% (216/260)\u001b[K\rremote: Counting objects:  84% (219/260)\u001b[K\rremote: Counting objects:  85% (221/260)\u001b[K\rremote: Counting objects:  86% (224/260)\u001b[K\rremote: Counting objects:  87% (227/260)\u001b[K\rremote: Counting objects:  88% (229/260)\u001b[K\rremote: Counting objects:  89% (232/260)\u001b[K\rremote: Counting objects:  90% (234/260)\u001b[K\rremote: Counting objects:  91% (237/260)\u001b[K\rremote: Counting objects:  92% (240/260)\u001b[K\rremote: Counting objects:  93% (242/260)\u001b[K\rremote: Counting objects:  94% (245/260)\u001b[K\rremote: Counting objects:  95% (247/260)\u001b[K\rremote: Counting objects:  96% (250/260)\u001b[K\rremote: Counting objects:  97% (253/260)\u001b[K\rremote: Counting objects:  98% (255/260)\u001b[K\rremote: Counting objects:  99% (258/260)\u001b[K\rremote: Counting objects: 100% (260/260)\u001b[K\rremote: Counting objects: 100% (260/260), done.\u001b[K\n",
            "remote: Compressing objects: 100% (180/180), done.\u001b[K\n",
            "remote: Total 260 (delta 174), reused 156 (delta 78), pack-reused 0\u001b[K\n",
            "Receiving objects: 100% (260/260), 59.69 KiB | 14.92 MiB/s, done.\n",
            "Resolving deltas: 100% (174/174), done.\n",
            "--2022-04-21 06:48:21--  https://cdn.discordapp.com/attachments/853331570219286571/956564970718515250/wget-at_colab\n",
            "Resolving cdn.discordapp.com (cdn.discordapp.com)... 162.159.129.233, 162.159.133.233, 162.159.130.233, ...\n",
            "Connecting to cdn.discordapp.com (cdn.discordapp.com)|162.159.129.233|:443... connected.\n",
            "HTTP request sent, awaiting response... 200 OK\n",
            "Length: 2158848 (2.1M) [application/octet-stream]\n",
            "Saving to: ‘wget-at’\n",
            "\n",
            "wget-at             100%[===================>]   2.06M  --.-KB/s    in 0.02s   \n",
            "\n",
            "2022-04-21 06:48:21 (106 MB/s) - ‘wget-at’ saved [2158848/2158848]\n",
            "\n",
            "Executing: /tmp/apt-key-gpghome.SEx8kHLg2G/gpg.1.sh --keyserver keyserver.ubuntu.com --recv-keys 648ACFD622F3D138 0E98404D386FA1D9\n",
            "gpg: key 73A4F27B8DD47936: 5 signatures not checked due to missing keys\n",
            "gpg: key 73A4F27B8DD47936: \"Debian Archive Automatic Signing Key (11/bullseye) <ftpmaster@debian.org>\" not changed\n",
            "gpg: key DC30D7C23CBBABEE: 6 signatures not checked due to missing keys\n",
            "gpg: key DC30D7C23CBBABEE: \"Debian Archive Automatic Signing Key (10/buster) <ftpmaster@debian.org>\" not changed\n",
            "gpg: Total number processed: 2\n",
            "gpg:              unchanged: 2\n",
            "Hit:1 http://archive.ubuntu.com/ubuntu bionic InRelease\n",
            "Get:2 http://archive.ubuntu.com/ubuntu bionic-updates InRelease [88.7 kB]\n",
            "Hit:3 https://cloud.r-project.org/bin/linux/ubuntu bionic-cran40/ InRelease\n",
            "Get:4 http://archive.ubuntu.com/ubuntu bionic-backports InRelease [74.6 kB]\n",
            "Ign:5 https://developer.download.nvidia.com/compute/cuda/repos/ubuntu1804/x86_64  InRelease\n",
            "Get:6 http://security.ubuntu.com/ubuntu bionic-security InRelease [88.7 kB]\n",
            "Get:7 http://ppa.launchpad.net/c2d4u.team/c2d4u4.0+/ubuntu bionic InRelease [15.9 kB]\n",
            "Hit:8 http://deb.debian.org/debian buster-backports InRelease\n",
            "Ign:9 https://developer.download.nvidia.com/compute/machine-learning/repos/ubuntu1804/x86_64  InRelease\n",
            "Hit:10 https://developer.download.nvidia.com/compute/cuda/repos/ubuntu1804/x86_64  Release\n",
            "Hit:11 https://developer.download.nvidia.com/compute/machine-learning/repos/ubuntu1804/x86_64  Release\n",
            "Hit:12 http://ppa.launchpad.net/cran/libgit2/ubuntu bionic InRelease\n",
            "Hit:13 http://ppa.launchpad.net/deadsnakes/ppa/ubuntu bionic InRelease\n",
            "Hit:14 http://ppa.launchpad.net/graphics-drivers/ppa/ubuntu bionic InRelease\n",
            "Get:15 http://ppa.launchpad.net/c2d4u.team/c2d4u4.0+/ubuntu bionic/main Sources [1,950 kB]\n",
            "Fetched 2,218 kB in 3s (871 kB/s)\n",
            "Reading package lists... Done\n",
            "Reading package lists... Done\n",
            "Building dependency tree       \n",
            "Reading state information... Done\n",
            "libzstd-dev is already the newest version (1.4.4+dfsg-3~bpo10+1).\n",
            "libzstd1 is already the newest version (1.4.4+dfsg-3~bpo10+1).\n",
            "zstd is already the newest version (1.4.4+dfsg-3~bpo10+1).\n",
            "0 upgraded, 0 newly installed, 0 to remove and 121 not upgraded.\n",
            "Requirement already satisfied: setuptools in /usr/local/lib/python3.7/dist-packages (57.4.0)\n",
            "Requirement already satisfied: wheel in /usr/local/lib/python3.7/dist-packages (0.37.1)\n",
            "Requirement already satisfied: seesaw2 in /usr/local/lib/python3.7/dist-packages (0.10.3)\n",
            "Requirement already satisfied: zstandard in /usr/local/lib/python3.7/dist-packages (0.17.0)\n",
            "Requirement already satisfied: requests in /usr/local/lib/python3.7/dist-packages (2.27.1)\n",
            "Requirement already satisfied: sockjs-tornado in /usr/local/lib/python3.7/dist-packages (from seesaw2) (1.0.7)\n",
            "Requirement already satisfied: Tornado<5.99999.99999,>=4 in /usr/local/lib/python3.7/dist-packages (from seesaw2) (5.1.1)\n",
            "Requirement already satisfied: urllib3<1.27,>=1.21.1 in /usr/local/lib/python3.7/dist-packages (from requests) (1.24.3)\n",
            "Requirement already satisfied: charset-normalizer~=2.0.0 in /usr/local/lib/python3.7/dist-packages (from requests) (2.0.12)\n",
            "Requirement already satisfied: idna<4,>=2.5 in /usr/local/lib/python3.7/dist-packages (from requests) (2.10)\n",
            "Requirement already satisfied: certifi>=2017.4.17 in /usr/local/lib/python3.7/dist-packages (from requests) (2021.10.8)\n",
            "Reading package lists... Done\n",
            "Building dependency tree       \n",
            "Reading state information... Done\n",
            "liblua5.1-0 is already the newest version (5.1.5-8.1build2).\n",
            "liblua5.1-0-dev is already the newest version (5.1.5-8.1build2).\n",
            "lua-socket is already the newest version (3.0~rc1+git+ac3201d-4).\n",
            "lua5.1 is already the newest version (5.1.5-8.1build2).\n",
            "libgnutls28-dev is already the newest version (3.5.18-1ubuntu1.5).\n",
            "rsync is already the newest version (3.1.2-2.1ubuntu1.4).\n",
            "0 upgraded, 0 newly installed, 0 to remove and 45 not upgraded.\n"
          ]
        }
      ]
    },
    {
      "cell_type": "code",
      "source": [
        "%cd mediafire-grab"
      ],
      "metadata": {
        "id": "VHIel_BIk6_m",
        "colab": {
          "base_uri": "https://localhost:8080/"
        },
        "outputId": "4b81d280-eafc-4c9b-fa03-8cf227e2dc36"
      },
      "execution_count": 2,
      "outputs": [
        {
          "output_type": "stream",
          "name": "stdout",
          "text": [
            "/content/telegram-grab\n"
          ]
        }
      ]
    },
    {
      "cell_type": "code",
      "metadata": {
        "id": "qCA06w6r6lLz",
        "colab": {
          "base_uri": "https://localhost:8080/"
        },
        "outputId": "d1e5fa4c-f037-462a-fa17-c87bd11b6132"
      },
      "source": [
        "!run-pipeline3 pipeline.py --concurrent 250 blvxrd --disable-web-server > /dev/null"
      ],
      "execution_count": 3,
      "outputs": [
        {
          "output_type": "stream",
          "name": "stdout",
          "text": [
            "Stopping immediately.\n",
            "^C\n"
          ]
        }
      ]
    }
  ]
}